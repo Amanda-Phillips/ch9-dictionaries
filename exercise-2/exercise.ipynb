{
 "cells": [
  {
   "cell_type": "markdown",
   "metadata": {},
   "source": [
    "# Exercise 2\n",
    "Add the specified code for each code cell, running the cells _in order_."
   ]
  },
  {
   "cell_type": "markdown",
   "metadata": {},
   "source": [
    "Open the included **`data/words_small.txt`** file (containing a \"small\" list of English words) and `read()` it into a single string variable **`words_str`**. Then print the first 100 _characters_ of the `words_str` variable (use a slice operator!)"
   ]
  },
  {
   "cell_type": "code",
   "execution_count": null,
   "metadata": {},
   "outputs": [],
   "source": []
  },
  {
   "cell_type": "markdown",
   "metadata": {},
   "source": [
    "**Using a loop**, count the number of times the newline character `\\n` appears in the `words_str`. This should tell you the number of words in the file (plus or minus one). You can check your work with the built-in `count()` string method (but use the loop for practice!)"
   ]
  },
  {
   "cell_type": "code",
   "execution_count": null,
   "metadata": {},
   "outputs": [],
   "source": []
  },
  {
   "cell_type": "markdown",
   "metadata": {},
   "source": [
    "Create a variable **`letter_counts`** that is a dictionary whose keys are characters (letters) and whose values are the number of times that character appears in `words_str`. Print the dictionary after you make it.\n",
    "- To do this, start with an empty dictionary, then loop through the letters one at a time. At each letter, increase the value associated with that letter key by one.\n",
    "- Watch out for if the letter is not in the dictionary yet!\n",
    "- Also _delete_ the entry for the newline `\\n` character"
   ]
  },
  {
   "cell_type": "code",
   "execution_count": null,
   "metadata": {},
   "outputs": [],
   "source": []
  },
  {
   "cell_type": "markdown",
   "metadata": {},
   "source": [
    "Print out all the count in the `letter_counts` dictionary in the format `\"A appears 703 times\"`, each on a new line, in alphabetical order. _Hint_: iterate through the sorted keys!"
   ]
  },
  {
   "cell_type": "code",
   "execution_count": null,
   "metadata": {},
   "outputs": [],
   "source": []
  },
  {
   "cell_type": "markdown",
   "metadata": {},
   "source": [
    "Print which letter from the `letter_counts` dictionary has a **value** of `515`. _Hint:_ use a loop to look through all the _items_ until you find the right one, then print that!"
   ]
  },
  {
   "cell_type": "code",
   "execution_count": null,
   "metadata": {},
   "outputs": [],
   "source": []
  },
  {
   "cell_type": "markdown",
   "metadata": {},
   "source": [
    "Create a variable **`count_to_letter_dict`** that is a dictionary whose **keys** are the counts and whose **values** are the letters that have that count. This is a _reverse lookup_ dictionary. Hint: ceate a new dictionary, then loop through items in `letter_counts` and add an item to your new dictionary for each element. You can assume no duplicated counts."
   ]
  },
  {
   "cell_type": "code",
   "execution_count": null,
   "metadata": {
    "collapsed": true
   },
   "outputs": [],
   "source": []
  },
  {
   "cell_type": "markdown",
   "metadata": {},
   "source": [
    "Print the **10** most common letters and their counts with the format `\"A appears 703 times\"`. _Hint:_ you'll need to sort the keys to `count_to_letter_dict` and take the first 10 of those."
   ]
  },
  {
   "cell_type": "code",
   "execution_count": null,
   "metadata": {},
   "outputs": [],
   "source": []
  },
  {
   "cell_type": "markdown",
   "metadata": {},
   "source": [
    "Bonus: repeat your analysis on the `data/words_huge.txt` file! Are the top letters the same?"
   ]
  }
 ],
 "metadata": {
  "kernelspec": {
   "display_name": "Python 3",
   "language": "python",
   "name": "python3"
  },
  "language_info": {
   "codemirror_mode": {
    "name": "ipython",
    "version": 3
   },
   "file_extension": ".py",
   "mimetype": "text/x-python",
   "name": "python",
   "nbconvert_exporter": "python",
   "pygments_lexer": "ipython3",
   "version": "3.6.1"
  },
  "toc": {
   "colors": {
    "hover_highlight": "#DAA520",
    "running_highlight": "#FF0000",
    "selected_highlight": "#FFD700"
   },
   "moveMenuLeft": true,
   "nav_menu": {
    "height": "30px",
    "width": "252px"
   },
   "navigate_menu": true,
   "number_sections": true,
   "sideBar": true,
   "threshold": 4,
   "toc_cell": false,
   "toc_section_display": "block",
   "toc_window_display": false,
   "widenNotebook": false
  }
 },
 "nbformat": 4,
 "nbformat_minor": 2
}
