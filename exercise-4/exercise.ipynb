{
 "cells": [
  {
   "cell_type": "markdown",
   "metadata": {},
   "source": [
    "# Exercise 4\n",
    "Add the specified code for each code cell, running the cells _in order_. <small>(This exercise was adapted from [Erle Robotics S.L.](https://www.gitbook.com/@erlerobotics))</small>"
   ]
  },
  {
   "cell_type": "markdown",
   "metadata": {},
   "source": [
    "Create a _list_ **`students`** that contains dictionaries, each representing a student. A student has a `name`, as well as _lists_ of scores for each of `homework`, `quizzes`, and `tests`. Your dictionary should contain the following dictionaries for the following students:\n",
    "- Lloyd, who earned the following scores:\n",
    "    - Homework: 90, 97, 75, 92\n",
    "    - Quizzes: 88, 40, 94\n",
    "    - Exams: 75, 90\n",
    "- Alice, who earned the following scores:\n",
    "    - Homework: 100, 92, 98, 100\n",
    "    - Quizzes: 82, 83, 91\n",
    "    - Exams: 89, 97\n",
    "- Tyler, who earned the following scores:\n",
    "    - Homework: 0, 87, 75, 22\n",
    "    - Quizzes: 0, 75, 78\n",
    "    - Exams: 100, 100\n",
    "\n",
    "Print out the list after you create it."
   ]
  },
  {
   "cell_type": "code",
   "execution_count": 1,
   "metadata": {},
   "outputs": [
    {
     "name": "stdout",
     "output_type": "stream",
     "text": [
      "[{'name': 'Lloyd', 'homework': [90, 97, 75, 92], 'quizzes': [88, 40, 94], 'tests': [75, 90]}, {'name': 'Alice', 'homework': [100, 92, 98, 100], 'quizzes': [82, 83, 91], 'tests': [89, 97]}, {'name': 'Tyler', 'homework': [0, 87, 75, 22], 'quizzes': [0, 75, 78], 'tests': [100, 100]}]\n"
     ]
    }
   ],
   "source": [
    "students = [\n",
    "    {\n",
    "      \"name\": \"Lloyd\",\n",
    "      \"homework\": [90, 97, 75, 92],\n",
    "      \"quizzes\": [88, 40, 94],\n",
    "      \"tests\": [75, 90]\n",
    "    },\n",
    "    {\n",
    "      \"name\": \"Alice\",\n",
    "      \"homework\": [100, 92, 98, 100],\n",
    "      \"quizzes\": [82, 83, 91],\n",
    "      \"tests\": [89, 97]\n",
    "    },\n",
    "    {\n",
    "      \"name\": \"Tyler\",\n",
    "      \"homework\": [0, 87, 75, 22],\n",
    "      \"quizzes\": [0, 75, 78],\n",
    "      \"tests\": [100, 100]\n",
    "    }\n",
    "]\n",
    "print(students)"
   ]
  },
  {
   "cell_type": "markdown",
   "metadata": {},
   "source": [
    "Define a function **`weighted_average()`** that takes in a dictionary representing a student (as above), as well as 3 values between 0 and 1 representing the amount of weight that each of homework (default 40%), quizzes (default 40%), and tests (default 20%) receive in determing the final grade. The function should then calculate and return the overall score (between 0 and 100) based on these weights.\n",
    "- Hint: use the `sum()` function to easily sum up the scores for each category."
   ]
  },
  {
   "cell_type": "code",
   "execution_count": 2,
   "metadata": {},
   "outputs": [],
   "source": [
    "def weighted_average(student, hwk=.4, quiz=.4, test=.2):\n",
    "    homework_score = sum(student['homework'])/len(student['homework'])\n",
    "    quizzes_score = sum(student['quizzes'])/len(student['quizzes'])\n",
    "    tests_score = sum(student['tests'])/len(student['tests'])\n",
    "    return hwk*homework_score + quiz*quizzes_score + test*tests_score"
   ]
  },
  {
   "cell_type": "markdown",
   "metadata": {},
   "source": [
    "Create a variable **`anonymous_scores`** that is a list of the average scores of all the students in the class. Homework gets 10% weight, quizzes get 30% weight, and exams get 60% weight (it's not a well-designed course). Output the variable once done."
   ]
  },
  {
   "cell_type": "code",
   "execution_count": 3,
   "metadata": {},
   "outputs": [
    {
     "data": {
      "text/plain": [
       "[80.55, 91.15, 79.9]"
      ]
     },
     "execution_count": 3,
     "metadata": {},
     "output_type": "execute_result"
    }
   ],
   "source": [
    "anonymous_scores = []\n",
    "for student in students:\n",
    "    anonymous_scores.append(round(weighted_average(student, .1, .3, .6), 2))\n",
    "anonymous_scores"
   ]
  },
  {
   "cell_type": "markdown",
   "metadata": {},
   "source": [
    "Define a function **`get_letter_grade()`** that takes in a score and returns a \"letter grade\" associated with that score based on the following criteria:\n",
    "- 90-100 is an A\n",
    "- 80-90 is a B\n",
    "- 70-80 is a C\n",
    "- 60-70 is a D\n",
    "- 0-60 is an F"
   ]
  },
  {
   "cell_type": "code",
   "execution_count": 4,
   "metadata": {},
   "outputs": [],
   "source": [
    "def get_letter_grade(score):\n",
    "    if score >= 90:\n",
    "        return \"A\"\n",
    "    elif score >= 80:\n",
    "        return \"B\"\n",
    "    elif score >= 70:\n",
    "        return \"C\"\n",
    "    elif score >= 60:\n",
    "        return \"D\"\n",
    "    else:\n",
    "        return \"F\""
   ]
  },
  {
   "cell_type": "markdown",
   "metadata": {},
   "source": [
    "Assign a new key `grade` to each student in the `students` list that is the final letter grade for their work (using the same weights as you used for the anonymous scores)."
   ]
  },
  {
   "cell_type": "code",
   "execution_count": 5,
   "metadata": {},
   "outputs": [
    {
     "name": "stdout",
     "output_type": "stream",
     "text": [
      "[{'name': 'Lloyd', 'homework': [90, 97, 75, 92], 'quizzes': [88, 40, 94], 'tests': [75, 90], 'grade': 'B'}, {'name': 'Alice', 'homework': [100, 92, 98, 100], 'quizzes': [82, 83, 91], 'tests': [89, 97], 'grade': 'A'}, {'name': 'Tyler', 'homework': [0, 87, 75, 22], 'quizzes': [0, 75, 78], 'tests': [100, 100], 'grade': 'C'}]\n"
     ]
    }
   ],
   "source": [
    "for student in students:\n",
    "    score = weighted_average(student, .1, .3, .6)\n",
    "    student['grade'] = get_letter_grade(score)\n",
    "print(students)"
   ]
  },
  {
   "cell_type": "markdown",
   "metadata": {},
   "source": [
    "Print the class's average letter grade."
   ]
  },
  {
   "cell_type": "code",
   "execution_count": 6,
   "metadata": {},
   "outputs": [
    {
     "name": "stdout",
     "output_type": "stream",
     "text": [
      "B\n"
     ]
    }
   ],
   "source": [
    "print(get_letter_grade(sum(anonymous_scores)/len(anonymous_scores)))"
   ]
  }
 ],
 "metadata": {
  "kernelspec": {
   "display_name": "Python 3",
   "language": "python",
   "name": "python3"
  },
  "language_info": {
   "codemirror_mode": {
    "name": "ipython",
    "version": 3
   },
   "file_extension": ".py",
   "mimetype": "text/x-python",
   "name": "python",
   "nbconvert_exporter": "python",
   "pygments_lexer": "ipython3",
   "version": "3.6.1"
  },
  "toc": {
   "colors": {
    "hover_highlight": "#DAA520",
    "running_highlight": "#FF0000",
    "selected_highlight": "#FFD700"
   },
   "moveMenuLeft": true,
   "nav_menu": {
    "height": "30px",
    "width": "252px"
   },
   "navigate_menu": true,
   "number_sections": true,
   "sideBar": true,
   "threshold": 4,
   "toc_cell": false,
   "toc_section_display": "block",
   "toc_window_display": false,
   "widenNotebook": false
  }
 },
 "nbformat": 4,
 "nbformat_minor": 2
}
